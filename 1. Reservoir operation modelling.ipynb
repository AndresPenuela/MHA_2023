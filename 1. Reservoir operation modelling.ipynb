{
 "cells": [
  {
   "cell_type": "markdown",
   "metadata": {
    "slideshow": {
     "slide_type": "-"
    }
   },
   "source": [
    "# Reservoir operation modelling\n",
    "In this Notebook we will see how we can simulate the operation of water supply reservoir system.\n",
    "\n",
    "<left><img src=\"images/Dam1.gif\" width = \"800px\"><left>\n",
    "    \n",
    "We consider a simple illustrative system where a reservoir is operated to supply water to a domestic consumption node, while ensuring a minimum environmental flow in the downstream river (also called “environmental compensation flow”) and maintaining the water level in the reservoir within prescribed limits. We use a mathematical model to link all the key variables that represent the reservoir dynamics (inflow, storage and outflows) and use model simulation/optimisation to determine the reservoir release scheduling that will best meet the water demand over a coming period of time, given the predicted (or assumed) scenario of future inflows.\n",
    "<left> <img src=\"images/system_representation_IO0.png\" width = \"600px\"><left>\n",
    "## Import libraries\n",
    "Before getting started, let's import some libraries that will be used throughout the Notebook:"
   ]
  },
  {
   "cell_type": "code",
   "execution_count": null,
   "metadata": {},
   "outputs": [],
   "source": [
    "import numpy as np\n",
    "import matplotlib.pyplot as plt\n",
    "from ipywidgets import interact # to create interactive elements and figures"
   ]
  },
  {
   "cell_type": "markdown",
   "metadata": {},
   "source": [
    "## The reservoir model\n",
    "\n",
    "The mathematical model of the reservoir essentially consists of a water balance equation, where the storage (***s***) at a future time step (for example, at the beginning of the next week) is predicted from the storage at the current time (the beginning of the this week) by adding and subtracting the inflows and outflows that will occur during the temporal interval ahead:\n",
    "\n",
    "$s(t+1) = s(t) + inflow(t) – evap(t) – env(t) - spill(t) – supply(t)$   \n",
    "\n",
    "Where\n",
    "\n",
    "***s(t)*** = reservoir storage at time-step t, in Vol (for example: ML)\n",
    "\n",
    "***inflow(t)*** = reservoir inflows in the interval [t,t+1], in Vol/time (for example: ML/week).\n",
    "\n",
    "***evap(t)*** = evaporation from the reservoir surface area in the interval [t,t+1], in Vol/time (for example: ML/week).\n",
    "\n",
    "***env(t)*** = environmental compensation flow in the interval [t,t+1], in Vol/time (for example: ML/week). \n",
    "\n",
    "***spill(t)*** = outflow through spillways (if any) in the interval [t,t+1], in Vol/time (for example: ML/week). \n",
    "\n",
    "***supply(t)*** = regulated reservoir release for water supply in the interval [t,t+1], in Vol/time (for example: ML/week). \n",
    "\n",
    "<left> <img src=\"images/system_representation_IO1.png\" width = \"600px\"><left>\n",
    "    \n",
    "#### Implementation of the reservoir simulation function\n",
    "Here we define a function that implements the reservoir simulation, that is, iteratively apply the mass balance equation and reconstruct the temporal evolution of the reservoir variables over the simulation period"
   ]
  },
  {
   "cell_type": "code",
   "execution_count": null,
   "metadata": {
    "code_folding": []
   },
   "outputs": [],
   "source": [
    "def res_sim(inflow,evap,demand,s_0,s_max,env_min,supply):\n",
    "    \"\"\"\n",
    "    This is a model that simulates the operation of a single reservoir system. \n",
    "    It essentially consists of a water balance equation, \n",
    "    where the storage (s) at a future time step is predicted from the storage at the current time \n",
    "    by adding and subtracting the inflows and outflows that will occur during the temporal interval ahead\n",
    "\n",
    "    The inputs of the model are:\n",
    "\n",
    "    inflow = time series of reservoir inflows [ML]\n",
    "\n",
    "    evap = time series of evaporation from the reservoir surface area [ML]\n",
    "    \n",
    "    demand = time series of water demand [ML]\n",
    "    \n",
    "    s_0 = initial reservoir storage [ML]\n",
    "    \n",
    "    s_max = maximum storage capacity of the reservoir [ML]\n",
    "\n",
    "    env_min = minimum environmental flow [ML]\n",
    "    \n",
    "    supply = regulated reservoir release for water supply [ML]\n",
    "    \n",
    "    And the outpus are:\n",
    "    \n",
    "    s = reservoir storage [ML]\n",
    "    \n",
    "    env = environmental compensation flow [ML]\n",
    "    \n",
    "    spill = outflow through spillways [ML]\n",
    "    \n",
    "    supply = regulated reservoir release for water supply [ML]\n",
    "    \n",
    "    \"\"\"\n",
    "    \n",
    "    # Please write the code of the model here\n",
    "    \n",
    "    \n",
    "    return s,env,spill,supply"
   ]
  },
  {
   "cell_type": "markdown",
   "metadata": {},
   "source": [
    "#### Definition of inflow and demand scenarios\n",
    "Let's assume we want to look at the next 8 weeks the number of weeks, and assume we have forecasts of inflows, evaporation and demand for this period."
   ]
  },
  {
   "cell_type": "code",
   "execution_count": null,
   "metadata": {},
   "outputs": [],
   "source": [
    "inflow = np.array([15,17,19,11,9,4,3,8]) # (ML/week) time series of inflow forecasts\n",
    "evap = np.array([1,1,2,2,2,2,2,3]) # (ML/week) time series of evaporation forecasts\n",
    "demand = np.array([13,13,17,18,20,22,25,26]) # (ML/week) time series of demand forecasts"
   ]
  },
  {
   "cell_type": "markdown",
   "metadata": {},
   "source": [
    "Plot the **inflow** forecast:"
   ]
  },
  {
   "cell_type": "code",
   "execution_count": null,
   "metadata": {},
   "outputs": [],
   "source": []
  },
  {
   "cell_type": "markdown",
   "metadata": {},
   "source": [
    "Plot the **demand** forecast:"
   ]
  },
  {
   "cell_type": "code",
   "execution_count": null,
   "metadata": {},
   "outputs": [],
   "source": []
  },
  {
   "cell_type": "markdown",
   "metadata": {},
   "source": [
    "#### Definition of other input parameters\n",
    "Let's define other variables that are needed for the reservoir system simulation, such as the reservoir storage capacity, the environmental compensation flow, etc."
   ]
  },
  {
   "cell_type": "code",
   "execution_count": null,
   "metadata": {},
   "outputs": [],
   "source": [
    "### Constraints ###\n",
    "s_max = 150 #  (ML) Maximum storage (=reservoir capacity)\n",
    "env_min = 2 # (ML/week)   # Environmental compensation flow\n",
    "\n",
    "### Initial conditions ###\n",
    "s_0 = 80 # (ML) # Storage volume at the beginning of the simulation period"
   ]
  },
  {
   "cell_type": "markdown",
   "metadata": {},
   "source": [
    "## Determining the release scheduling by trial and error (manual optimisation)\n",
    "Here we want to use the reservoir model to assist the reservoir operator in determining the best scheduling of regulated reservoir releases (`supply`) in response to a certain scenario of inflows. The goal is to minimise the deficit with respect to a prescribed water demand, that is, to minimise the objective function:\n",
    "\n",
    "$$TSD = \\sum_{t=1}^{T} [ \\ max( \\ 0, \\ demand(t)-supply(t) \\ ) \\ ]^2 $$\n",
    "\n",
    "where `T` is the length of the simulation period that we are considering, and `demand` is the water demand for each time-interval in that period, and `TSD` stands for **Total Squared Deficit**. Notice that the function $max(0,...)$ enables us to only count the difference between `demand` and `supply` when this is positive, that is, when the `supply` is smaller than the `demand`, and a water shortage is indeed produced. Also, the squaring is a 'mathematical trick' to make sure that larger deficit amounts are given more weight than smaller ones. This translates the fact that small deficit amounts are easier to mitigate and hence more acceptable, while larger ones can cause disproportionately severe impacts and should be avoided as much as possible."
   ]
  },
  {
   "cell_type": "code",
   "execution_count": null,
   "metadata": {},
   "outputs": [],
   "source": [
    "def TSD_func():\n"
   ]
  },
  {
   "cell_type": "markdown",
   "metadata": {},
   "source": [
    "#### Determining the optimal release scheduling via interactive visualisation\n",
    "\n",
    "Use the slider to set the release amount for each week in the simulation period, and in doing so try to minimise the Total Squared Deficit. "
   ]
  },
  {
   "cell_type": "code",
   "execution_count": null,
   "metadata": {},
   "outputs": [],
   "source": [
    "@interact()\n",
    "def int_res_operation_1():\n"
   ]
  },
  {
   "cell_type": "markdown",
   "metadata": {},
   "source": [
    "**Comment**: clearly it is not possible to fully meet the demand at all times in the simulation period. For example if we fully cover the demand for the first 7 weeks, we drawdown the reservoir to a point that we are forced to dramatically reduce the release in the last week, causing a very severe deficit. A more effective approach is to cause smaller deficits across all time steps, that is, tolerate some small deficits even when in principle we may fully cover the demand, in order to prevent more severe deficits in the later period. This type of approach is called ***hedging*** (see for example [You and Cai 2008](https://agupubs.onlinelibrary.wiley.com/doi/10.1029/2006WR005481)).\n",
    "\n",
    "Btw, the minimum TSD value that can be achieved is **49, try to beat it!**\n",
    "\n",
    "## From single to multi-objective\n",
    "Now let's assume that, besides minimising supply deficits, we are also interested in minimising the chances that the reservoir level go below a minimum threshold. This could be, for example, because the quality of the water deteriorates when levels are low, requiring more costly treatment. We measure how well this criterion is satisfied by the following objective function:\n",
    "\n",
    "$$TSV = \\sum_{t=1}^{T} max ( \\ smin - s(t) , \\ 0)$$\n",
    "\n",
    "where, again, `T` is the length of the simulation period, `s` is the reservoir storage, and `s_min` is the minimum reservoir storage threshold that should preferably not be transpassed (`TSV` stands for **Total Storage Violation**). "
   ]
  },
  {
   "cell_type": "code",
   "execution_count": null,
   "metadata": {},
   "outputs": [],
   "source": [
    "def TSV_func():\n"
   ]
  },
  {
   "cell_type": "markdown",
   "metadata": {},
   "source": [
    "For our case, let's set this threshold to 30 ML:"
   ]
  },
  {
   "cell_type": "code",
   "execution_count": null,
   "metadata": {},
   "outputs": [],
   "source": [
    "# Minimum storage threshold\n",
    "s_min = 30 # in ML"
   ]
  },
  {
   "cell_type": "markdown",
   "metadata": {},
   "source": [
    "Now use the slider to set the release amount for each week in the simulation period, in a way that jointly minimise the Total Squared Deficit and the Minimum Storage Violation. "
   ]
  },
  {
   "cell_type": "code",
   "execution_count": null,
   "metadata": {},
   "outputs": [],
   "source": [
    "@interact()\n",
    "def int_res_operation_2():\n"
   ]
  },
  {
   "cell_type": "markdown",
   "metadata": {},
   "source": [
    "***Comment*** It is possible to find a release scheduling that produce no violation of the minimum storage threshold, although it will produce some supply deficit - the record is **305, can you beat it?**. However, one could also allow some violation of the storage threshold in order to reduce the deficits. The two objectives are conflicting: improving on one of them implies doing worse on the other.\n",
    "\n",
    "### References \n",
    "\n",
    "Deb K. et al (2002) A fast and elitist multiobjective genetic algorithm: NSGA-II, IEEE Transactions on Evolutionary Computation, 6(2), 182-197, doi:10.1109/4235.996017.\n",
    "\n",
    "You J.Y. and Cai X. (2008) Hedging rule for reservoir operations: 1. A theoretical analysis, Water Resour. Res., 44, W01415, doi:10.1029/2006WR005481."
   ]
  }
 ],
 "metadata": {
  "kernelspec": {
   "display_name": "Python 3",
   "language": "python",
   "name": "python3"
  },
  "language_info": {
   "codemirror_mode": {
    "name": "ipython",
    "version": 3
   },
   "file_extension": ".py",
   "mimetype": "text/x-python",
   "name": "python",
   "nbconvert_exporter": "python",
   "pygments_lexer": "ipython3",
   "version": "3.8.8"
  },
  "varInspector": {
   "cols": {
    "lenName": 16,
    "lenType": 16,
    "lenVar": 40
   },
   "kernels_config": {
    "python": {
     "delete_cmd_postfix": "",
     "delete_cmd_prefix": "del ",
     "library": "var_list.py",
     "varRefreshCmd": "print(var_dic_list())"
    },
    "r": {
     "delete_cmd_postfix": ") ",
     "delete_cmd_prefix": "rm(",
     "library": "var_list.r",
     "varRefreshCmd": "cat(var_dic_list()) "
    }
   },
   "types_to_exclude": [
    "module",
    "function",
    "builtin_function_or_method",
    "instance",
    "_Feature"
   ],
   "window_display": false
  }
 },
 "nbformat": 4,
 "nbformat_minor": 4
}
